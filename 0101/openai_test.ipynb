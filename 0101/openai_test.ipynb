{
 "cells": [
  {
   "cell_type": "code",
   "execution_count": 4,
   "metadata": {},
   "outputs": [],
   "source": [
    "# %pip install langchain_openai"
   ]
  },
  {
   "cell_type": "code",
   "execution_count": 5,
   "metadata": {},
   "outputs": [
    {
     "data": {
      "text/plain": [
       "True"
      ]
     },
     "execution_count": 5,
     "metadata": {},
     "output_type": "execute_result"
    }
   ],
   "source": [
    "from dotenv import load_dotenv\n",
    "\n",
    "# API KEY 정보로드\n",
    "load_dotenv()"
   ]
  },
  {
   "cell_type": "code",
   "execution_count": 7,
   "metadata": {},
   "outputs": [
    {
     "name": "stdout",
     "output_type": "stream",
     "text": [
      "[답변]: content='대한민국의 수도는 **서울**입니다.\\n\\n서울은 대한민국의 정치, 경제, 문화의 중심지로서 다양한 역사적 명소와 현대적인 시설이 조화를 이루고 있는 도시입니다.' additional_kwargs={'refusal': None} response_metadata={'token_usage': {'completion_tokens': 118, 'prompt_tokens': 15, 'total_tokens': 133, 'completion_tokens_details': {'accepted_prediction_tokens': 0, 'audio_tokens': 0, 'reasoning_tokens': 64, 'rejected_prediction_tokens': 0}, 'prompt_tokens_details': {'audio_tokens': 0, 'cached_tokens': 0}}, 'model_name': 'o1-mini-2024-09-12', 'system_fingerprint': 'fp_e45605060d', 'finish_reason': 'stop', 'logprobs': None} id='run-cbf7da10-b477-4c4d-be32-1d31dc0c3059-0' usage_metadata={'input_tokens': 15, 'output_tokens': 118, 'total_tokens': 133, 'input_token_details': {'audio': 0, 'cache_read': 0}, 'output_token_details': {'audio': 0, 'reasoning': 64}}\n"
     ]
    }
   ],
   "source": [
    "from langchain_openai import ChatOpenAI\n",
    "\n",
    "# 객체 생성\n",
    "llm = ChatOpenAI(\n",
    "    temperature=1,  # 창의성 (0.0 ~ 2.0)\n",
    "    model_name=\"o1-mini\",  # 모델명\n",
    ")\n",
    "\n",
    "# 질의내용\n",
    "question = \"대한민국의 수도는 어디인가요?\"\n",
    "\n",
    "# 질의\n",
    "print(f\"[답변]: {llm.invoke(question)}\")"
   ]
  },
  {
   "cell_type": "code",
   "execution_count": 11,
   "metadata": {},
   "outputs": [],
   "source": [
    "# %pip install langchain-teddynote\n"
   ]
  },
  {
   "cell_type": "code",
   "execution_count": 12,
   "metadata": {},
   "outputs": [
    {
     "name": "stdout",
     "output_type": "stream",
     "text": [
      "물론입니다! 대한민국의 아름다운 관광지 10곳과 주소는 다음과 같습니다:\n",
      "\n",
      "1. **경복궁 (Gyeongbokgung Palace)**\n",
      "   - **주소:** 서울특별시 종로구 사직로 161\n",
      "\n",
      "2. **설악산 국립공원 (Seoraksan National Park)**\n",
      "   - **주소:** 강원도 속초시 설악산로 213\n",
      "\n",
      "3. **제주도 성산일출봉 (Seongsan Ilchulbong Peak)**\n",
      "   - **주소:** 제주특별자치도 서귀포시 성산읍 일출로 284\n",
      "\n",
      "4. **부산 해운대해수욕장 (Haeundae Beach, Busan)**\n",
      "   - **주소:** 부산광역시 해운대구 해운대로 2645\n",
      "\n",
      "5. **경주 불국사 (Bulguksa Temple)**\n",
      "   - **주소:** 경상북도 경주시 경주대로 385\n",
      "\n",
      "6. **전주 한옥마을 (Jeonju Hanok Village)**\n",
      "   - **주소:** 전라북도 전주시 완산구 교동길 99\n",
      "\n",
      "7. **남산 서울타워 (Namsan Seoul Tower)**\n",
      "   - **주소:** 서울특별시 용산구 남산공원길 105\n",
      "\n",
      "8. **광안리 해수욕장 (Gwanganli Beach)**\n",
      "   - **주소:** 부산광역시 수영구 광안해변로 219\n",
      "\n",
      "9. **담양 죽녹원 (Damyang Juknokwon)**\n",
      "   - **주소:** 전라남도 담양군 담양읍 죽녹원1길 27\n",
      "\n",
      "10. **부산 감천문화마을 (Gamcheon Culture Village)**\n",
      "    - **주소:** 부산광역시 사하구 감천동 산67-3\n",
      "\n",
      "이 외에도 대한민국에는 다양한 아름다운 관광지가 많으니 방문 계획에 참고하시기 바랍니다!"
     ]
    }
   ],
   "source": [
    "from langchain_teddynote.messages import stream_response\n",
    "\n",
    "# 스트림 방식으로 질의\n",
    "# answer 에 스트리밍 답변의 결과를 받습니다.\n",
    "answer = llm.stream(\"대한민국의 아름다운 관광지 10곳과 주소를 알려주세요!\")\n",
    "stream_response(answer)"
   ]
  }
 ],
 "metadata": {
  "kernelspec": {
   "display_name": "langstudy",
   "language": "python",
   "name": "python3"
  },
  "language_info": {
   "codemirror_mode": {
    "name": "ipython",
    "version": 3
   },
   "file_extension": ".py",
   "mimetype": "text/x-python",
   "name": "python",
   "nbconvert_exporter": "python",
   "pygments_lexer": "ipython3",
   "version": "3.11.9"
  }
 },
 "nbformat": 4,
 "nbformat_minor": 2
}
